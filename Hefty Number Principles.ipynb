{
 "cells": [
  {
   "cell_type": "markdown",
   "metadata": {},
   "source": [
    "<p align=\"center\">\n",
    "  <img src=\"hn_logo.png\">\n",
    "</p>\n"
   ]
  },
  {
   "cell_type": "markdown",
   "metadata": {},
   "source": [
    "## About Hefty Number\n",
    "Hefty Number is a python library built upon Numpy for doing arithmetic in arbitrary bases with arbitrary precision."
   ]
  },
  {
   "cell_type": "markdown",
   "metadata": {},
   "source": [
    "## Libraries"
   ]
  },
  {
   "cell_type": "code",
   "execution_count": 8,
   "metadata": {
    "collapsed": true
   },
   "outputs": [],
   "source": [
    "import numpy as np\n",
    "import math"
   ]
  },
  {
   "cell_type": "markdown",
   "metadata": {},
   "source": [
    "## Numbers\n",
    "Our modern positional number system can be described as a polynomial. \n",
    "\n",
    "$$\n",
    "\\large{\\begin{align}\n",
    "a_{n-1}b^{n-1} + a_{n-2}b^{n-2} \\ldots a_{1}b^{1} + a_{0}b^{0}\n",
    "\\end{align}}\n",
    "$$\n",
    "\n",
    "Where:\n",
    "* $a$ is a vector of coeficients representing the digits of a number and \n",
    "* $b$ is the base of the number. "
   ]
  },
  {
   "cell_type": "markdown",
   "metadata": {},
   "source": [
    "$$\n",
    "\\large{\\begin{align}\n",
    "a_{n-1}b^{n-1} + a_{n-2}b^{n-2} \\ldots a_{1}b^{1} + a_{0}b^{0} =  \\\\\n",
    "a_{n-1}b_{n-1} + a_{n-2}b_{n-2} \\ldots a_{1}b_{1} + a_{0}b_{0} = \\sum_i^{n-1}{a_i}{b_i} = \\\\\n",
    "a\\cdot\\dot{a}^\\intercal\n",
    "\\end{align}}\n",
    "$$"
   ]
  },
  {
   "cell_type": "markdown",
   "metadata": {},
   "source": [
    "Where a >= 1 and arg min is an non-negative integer. \n",
    "\n",
    "$$\\large{\\begin{align}\n",
    "\\underset{a \\ b \\ c}{\\operatorname{arg \\ min}}\\ 23-4^2a-4^1b-4^0c\\\\\n",
    "\\underset{a}{\\operatorname{arg \\ min}}\\ 23-4^2a = a \\\\\n",
    "\\underset{b}{\\operatorname{arg \\ min}}\\ 23-4^2a-4^1b = b \\\\\n",
    "\\underset{c}{\\operatorname{arg \\ min}}\\ 23-4^2b-4^1b-4^0c = c \\\\\n",
    "\\end{align}}\n",
    "$$"
   ]
  },
  {
   "cell_type": "markdown",
   "metadata": {},
   "source": [
    "### Non-vector case"
   ]
  },
  {
   "cell_type": "code",
   "execution_count": 15,
   "metadata": {},
   "outputs": [
    {
     "name": "stdout",
     "output_type": "stream",
     "text": [
      "[ 2  3 10  7 16  1  0 18  5  8 11 19 13  0  8  0  3 16  4  5  3  0 19 19 11\n",
      "  3  9 14 16  9 13  2 14  8  3  1  7 18 13 15 16  7 13  2 13  0 12 16  4  7\n",
      " 16  5 19 15 17  8 10  3 16 19 10 12 17 18  2  1 13 19 13 16 13  3  4 10  0\n",
      "  5  1  3  0  3 15 15 16  1 13  8  2  5 11 13 10 10  3 11 19  0 12  3 17 14\n",
      "  5 11  1 17  9 11 12 13  4 13  0 11 10 17  7  2  8  6 16  3 18 14  5 10  2\n",
      " 12 10 16  4  7 17 12  4 16 14  3 13  2  5 19 10 11  3  0  3  2 11 16  8 19\n",
      "  5  5  6 14 12 18  5 18 13  9 19 18 10  8 17 17 11  3 11  7  1  3  2 12 19\n",
      " 13 17 14 14 12 17  8  6 14 16 19 18  3 16 14  2 19  3 13  2  1  5  4  2 10\n",
      " 13 14  2 16  9  1 11  4 13  5 19  5  2 12 11  9 19  8 11  5 11  0 17 13 17\n",
      "  9  9  8  7 19  4 13 15  3  9 18 10  7 14  0  2  5 15 11 16 11  2  6 16 12\n",
      "  7 17]\n",
      "[[ 787377278800261375797310609626570169255923439036910297102455296922779142265402741036829965897731387072437550921294373519676860926877849046796053515656186390238191719866517824579364401567959339626467440107729622759612596819782635071948294923475127692380421387128460609278029340193136528647715203699828982676533576148782791492957]]\n"
     ]
    }
   ],
   "source": [
    "def argmin_s(x,base,power) -> \"[min,arg_min]\": \n",
    "    \n",
    "    minVal,lastMinVal = 1,1\n",
    "    fundamental       = base**power\n",
    "    \n",
    "    for i in range(0,base):\n",
    "        minVal = x - fundamental * i\n",
    "    \n",
    "        if(minVal < 0):\n",
    "            return [lastMinVal,i-1]\n",
    "        if(minVal == 0):\n",
    "            return [minVal,i]\n",
    "        \n",
    "        lastMinVal = minVal\n",
    "        \n",
    "    return [minVal,i]\n",
    "\n",
    "\n",
    "def b10bn(b10Num,base)->\"ndarry\":\n",
    "    if(base == 1):\n",
    "        return np.ones(b10Num)\n",
    "    \n",
    "    logNum = math.log(b10Num,base)\n",
    "    num    = []\n",
    "    \n",
    "    if logNum == 1:\n",
    "        nDigits=2\n",
    "    else:\n",
    "        nDigits = math.ceil(logNum)\n",
    "        \n",
    "    for i in range(nDigits-1,0,-1):\n",
    "        b10Num,idx = argmin_s(b10Num,base,i)\n",
    "        num.append(idx)\n",
    "        \n",
    "    num.append(b10Num)\n",
    "    \n",
    "    return np.array(num)\n",
    "\n",
    "def powerVect(base,n):\n",
    "    num = [1]\n",
    "    \n",
    "    if n == 1:\n",
    "        return np.array(num)\n",
    "    else:   \n",
    "        r = 1\n",
    "        for i in range(n):\n",
    "            r = base*r\n",
    "            num = [r] + num\n",
    "            \n",
    "        return np.matrix(num)\n",
    "    \n",
    "def vectToB10(vect,base):\n",
    "    rVect = powerVect(base,vect.shape[0]-1)\n",
    "    return vect*rVect.T\n",
    "    \n",
    "a = 9234094032940239493043829839823238928382938329823982389328923898238329832983239823982389232989838938928393893**3\n",
    "b = b10bn(a,20)\n",
    "print(b)\n",
    "print(vectToB10(b,20))\n"
   ]
  },
  {
   "cell_type": "code",
   "execution_count": 16,
   "metadata": {},
   "outputs": [
    {
     "data": {
      "text/plain": [
       "752.7062776521827"
      ]
     },
     "execution_count": 16,
     "metadata": {},
     "output_type": "execute_result"
    }
   ],
   "source": [
    "math.log(a)"
   ]
  },
  {
   "cell_type": "code",
   "execution_count": null,
   "metadata": {
    "collapsed": true
   },
   "outputs": [],
   "source": []
  }
 ],
 "metadata": {
  "kernelspec": {
   "display_name": "Python 3",
   "language": "python",
   "name": "python3"
  },
  "language_info": {
   "codemirror_mode": {
    "name": "ipython",
    "version": 3
   },
   "file_extension": ".py",
   "mimetype": "text/x-python",
   "name": "python",
   "nbconvert_exporter": "python",
   "pygments_lexer": "ipython3",
   "version": "3.5.3"
  }
 },
 "nbformat": 4,
 "nbformat_minor": 2
}
