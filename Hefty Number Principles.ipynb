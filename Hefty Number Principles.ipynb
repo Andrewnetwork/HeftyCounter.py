{
 "cells": [
  {
   "cell_type": "markdown",
   "metadata": {},
   "source": [
    "$$\n",
    "\\Huge \\mathbf{H}_n\n",
    "$$"
   ]
  },
  {
   "cell_type": "markdown",
   "metadata": {},
   "source": [
    "## About Hefty Number\n",
    "Hefty Number is a python library built upon Numpy for doing arithmetic in arbitrary bases with arbitrary precision."
   ]
  },
  {
   "cell_type": "markdown",
   "metadata": {},
   "source": [
    "## Numbers\n",
    "Our modern positional number system can be described as a polynomial. \n",
    "\n",
    "$$\n",
    "\\large{\\begin{align}\n",
    "a_{n-1}b^{n-1} + a_{n-2}b^{n-2} \\ldots a_{1}b^{1} + a_{0}b^{0}\n",
    "\\end{align}}\n",
    "$$\n",
    "\n",
    "Where:\n",
    "* $a$ is a vector of coeficients representing the digits of a number and \n",
    "* $b$ is the base of the number. "
   ]
  },
  {
   "cell_type": "markdown",
   "metadata": {},
   "source": [
    "$$\n",
    "\\large{\\begin{align}\n",
    "a_{n-1}b^{n-1} + a_{n-2}b^{n-2} \\ldots a_{1}b^{1} + a_{0}b^{0} =  \\\\\n",
    "a_{n-1}b_{n-1} + a_{n-2}b_{n-2} \\ldots a_{1}b_{1} + a_{0}b_{0} = \\sum_i^{n-1}{a_i}{b_i} = \\\\\n",
    "a\\cdot\\dot{a}^\\intercal\n",
    "\\end{align}}\n",
    "$$"
   ]
  },
  {
   "cell_type": "code",
   "execution_count": null,
   "metadata": {
    "collapsed": true
   },
   "outputs": [],
   "source": []
  }
 ],
 "metadata": {
  "kernelspec": {
   "display_name": "Python 3",
   "language": "python",
   "name": "python3"
  },
  "language_info": {
   "codemirror_mode": {
    "name": "ipython",
    "version": 3
   },
   "file_extension": ".py",
   "mimetype": "text/x-python",
   "name": "python",
   "nbconvert_exporter": "python",
   "pygments_lexer": "ipython3",
   "version": "3.5.3"
  }
 },
 "nbformat": 4,
 "nbformat_minor": 2
}
